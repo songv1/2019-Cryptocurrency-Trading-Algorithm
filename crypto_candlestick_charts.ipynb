{
 "cells": [
  {
   "cell_type": "code",
   "execution_count": 1,
   "metadata": {},
   "outputs": [
    {
     "ename": "ModuleNotFoundError",
     "evalue": "No module named 'cbpro'",
     "output_type": "error",
     "traceback": [
      "\u001b[0;31m---------------------------------------------------------------------------\u001b[0m",
      "\u001b[0;31mModuleNotFoundError\u001b[0m                       Traceback (most recent call last)",
      "\u001b[0;32m<ipython-input-1-2d2f7ff706f5>\u001b[0m in \u001b[0;36m<module>\u001b[0;34m\u001b[0m\n\u001b[0;32m----> 1\u001b[0;31m \u001b[0;32mimport\u001b[0m \u001b[0mcbpro\u001b[0m\u001b[0;34m\u001b[0m\u001b[0;34m\u001b[0m\u001b[0m\n\u001b[0m\u001b[1;32m      2\u001b[0m \u001b[0;32mimport\u001b[0m \u001b[0mcsv\u001b[0m\u001b[0;34m\u001b[0m\u001b[0;34m\u001b[0m\u001b[0m\n\u001b[1;32m      3\u001b[0m \u001b[0;34m\u001b[0m\u001b[0m\n\u001b[1;32m      4\u001b[0m \u001b[0mpublic_client\u001b[0m \u001b[0;34m=\u001b[0m \u001b[0mcbpro\u001b[0m\u001b[0;34m.\u001b[0m\u001b[0mPublicClient\u001b[0m\u001b[0;34m(\u001b[0m\u001b[0;34m)\u001b[0m\u001b[0;34m\u001b[0m\u001b[0;34m\u001b[0m\u001b[0m\n\u001b[1;32m      5\u001b[0m \u001b[0;34m\u001b[0m\u001b[0m\n",
      "\u001b[0;31mModuleNotFoundError\u001b[0m: No module named 'cbpro'"
     ]
    }
   ],
   "source": [
    "import cbpro\n",
    "import csv\n",
    "\n",
    "public_client = cbpro.PublicClient()\n",
    "\n",
    "\n",
    "csvData = [['time', 'low', 'high', 'open', 'close', 'volume']] + public_client.get_product_historic_rates('BTC-USD', granularity=900)\n",
    "\n",
    "with open('bitcoinCandlePrices.csv', 'w') as csvFile:\n",
    "    writer = csv.writer(csvFile)\n",
    "    writer.writerows(csvData)\n",
    "csvFile.close()"
   ]
  },
  {
   "cell_type": "code",
   "execution_count": null,
   "metadata": {},
   "outputs": [],
   "source": [
    "from astropy.io import ascii\n",
    "data = ascii.read(\"bitcoinCandlePrices.csv\")\n",
    "\n",
    "data.remove_column('volume')\n",
    "data.reverse()\n",
    "\n",
    "print(data)                       \n",
    "\n",
    "data.write('bitcoinCandlePricesRevised.csv', format='csv',overwrite=True)"
   ]
  },
  {
   "cell_type": "code",
   "execution_count": null,
   "metadata": {},
   "outputs": [],
   "source": [
    "import datetime as dt\n",
    "import matplotlib.dates as mdates \n",
    "import matplotlib.pyplot as plt\n",
    "import pandas_datareader as web\n",
    "from mpl_finance import candlestick2_ochl\n",
    "\n",
    "from astropy.table import Table\n",
    "#from astropy.io import ascii\n",
    "\n",
    "fig= plt.figure(figsize=(20,10))\n",
    "\n",
    "t = Table.read(\"bitcoinCandlePricesRevised.csv\")\n",
    "\n",
    "ax = plt.subplot()\n",
    "candlestick2_ochl(ax, t['open'], t['close'], t['high'], t['low'], width=2, colorup='g', colordown='r', alpha=1.0)\n",
    "\n",
    "ax.grid(True)\n",
    "\n",
    "fig.suptitle('USD-BTC Candlestick Chart', fontsize=20)\n",
    "plt.xlabel('Time', fontsize=16)\n",
    "plt.ylabel('Price USD', fontsize=16)\n",
    "\n",
    "fig.savefig('bitcoinCandleChart.jpg')\n",
    "plt.show()"
   ]
  },
  {
   "cell_type": "code",
   "execution_count": null,
   "metadata": {},
   "outputs": [],
   "source": [
    "# Modify table to be HA values\n",
    "from astropy.table import Table\n",
    "\n",
    "t = Table.read(\"bitcoinCandlePricesRevised.csv\")\n",
    "\n",
    "def haLow(row):\n",
    "    ha_low = min(t[row]['low'], t[row]['open'], t[row]['close'])\n",
    "    return ha_low\n",
    "\n",
    "def haHigh(row): \n",
    "    ha_high = max(t[row]['high'], t[row]['open'], t[row]['close'])\n",
    "    return ha_high \n",
    "\n",
    "def haOp(row): \n",
    "    row-=1\n",
    "    data = t[row]['open'] + t[row]['close']\n",
    "    ha_op = data/2\n",
    "    return ha_op\n",
    "\n",
    "def haClose(row):\n",
    "    data = t[row]['open'] + t[row]['high'] + t[row]['low'] + t[row]['close']\n",
    "    ha_close = data/4\n",
    "    return ha_close\n",
    "\n",
    "for x in range(len(t)): \n",
    "    t[x]['low'] = haLow(x)\n",
    "    t[x]['high'] = haHigh(x)\n",
    "    t[x]['open'] = haOp(x)\n",
    "    t[x]['close'] = haClose(x)\n",
    "\n",
    "#t.write('bitcoinHA', format='csv')\n",
    "t.write('bitcoinHA.csv', format='csv',overwrite=True)\n",
    "t"
   ]
  },
  {
   "cell_type": "code",
   "execution_count": null,
   "metadata": {},
   "outputs": [],
   "source": [
    "import datetime as dt\n",
    "import matplotlib.dates as mdates \n",
    "import matplotlib.pyplot as plt\n",
    "import pandas_datareader as web\n",
    "from mpl_finance import candlestick2_ochl\n",
    "\n",
    "from astropy.table import Table\n",
    "#from astropy.io import ascii\n",
    "\n",
    "fig= plt.figure(figsize=(40,25))\n",
    "\n",
    "t = Table.read(\"bitcoinHA.csv\")\n",
    "\n",
    "ax = plt.subplot()\n",
    "candlestick2_ochl(ax, t['open'], t['close'], t['high'], t['low'], width=0.5, colorup='g', colordown='r', alpha=1.0)\n",
    "\n",
    "ax.grid(True)\n",
    "\n",
    "fig.suptitle('USD-BTC Candlestick Chart', fontsize=20)\n",
    "plt.xlabel('Time', fontsize=16)\n",
    "plt.ylabel('Price USD', fontsize=16)\n",
    "\n",
    "fig.savefig('bitcoinCandleHA.jpg')\n",
    "plt.show()"
   ]
  },
  {
   "cell_type": "code",
   "execution_count": null,
   "metadata": {},
   "outputs": [],
   "source": []
  }
 ],
 "metadata": {
  "kernelspec": {
   "display_name": "Python 3",
   "language": "python",
   "name": "python3"
  },
  "language_info": {
   "codemirror_mode": {
    "name": "ipython",
    "version": 3
   },
   "file_extension": ".py",
   "mimetype": "text/x-python",
   "name": "python",
   "nbconvert_exporter": "python",
   "pygments_lexer": "ipython3",
   "version": "3.7.4"
  }
 },
 "nbformat": 4,
 "nbformat_minor": 2
}
